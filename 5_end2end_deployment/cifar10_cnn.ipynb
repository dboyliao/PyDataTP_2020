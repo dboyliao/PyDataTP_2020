{
 "cells": [
  {
   "cell_type": "code",
   "execution_count": 1,
   "metadata": {
    "ExecuteTime": {
     "end_time": "2020-11-24T09:03:14.944771Z",
     "start_time": "2020-11-24T09:03:13.847030Z"
    }
   },
   "outputs": [],
   "source": [
    "import sys\n",
    "import tensorflow as tf\n",
    "import numpy as np\n",
    "from utensor_cgen.api.export import tflm_keras_export"
   ]
  },
  {
   "cell_type": "code",
   "execution_count": 2,
   "metadata": {
    "ExecuteTime": {
     "end_time": "2020-11-24T09:03:14.949587Z",
     "start_time": "2020-11-24T09:03:14.946444Z"
    }
   },
   "outputs": [
    {
     "name": "stdout",
     "output_type": "stream",
     "text": [
      "sys.version_info(major=3, minor=6, micro=9, releaselevel='final', serial=0)\n",
      "2.3.0\n"
     ]
    }
   ],
   "source": [
    "print(sys.version_info)\n",
    "print(tf.__version__)"
   ]
  },
  {
   "cell_type": "code",
   "execution_count": 3,
   "metadata": {
    "ExecuteTime": {
     "end_time": "2020-11-24T09:03:16.393593Z",
     "start_time": "2020-11-24T09:03:15.881680Z"
    }
   },
   "outputs": [],
   "source": [
    "(x_train, y_train), (x_test, y_test) = tf.keras.datasets.cifar10.load_data()\n",
    "x_train = x_train.astype('float32') / 255.0\n",
    "y_train = y_train.astype('float32')\n",
    "x_test = x_test.astype('float32') / 255.0\n",
    "y_test = y_test.astype('float32')"
   ]
  },
  {
   "cell_type": "code",
   "execution_count": 4,
   "metadata": {
    "ExecuteTime": {
     "end_time": "2020-11-24T09:03:17.056036Z",
     "start_time": "2020-11-24T09:03:17.052189Z"
    }
   },
   "outputs": [],
   "source": [
    "label_map = {\n",
    "    0: \"airplane\",\n",
    "    1: \"automobile\",\n",
    "    2: \"bird\",\n",
    "    3: \"cat\",\n",
    "    4: \"deer\",\n",
    "    5: \"dog\",\n",
    "    6: \"frog\",\n",
    "    7: \"horse\",\n",
    "    8: \"ship\",\n",
    "    9: \"truck\",\n",
    "}"
   ]
  },
  {
   "cell_type": "code",
   "execution_count": 5,
   "metadata": {
    "ExecuteTime": {
     "end_time": "2020-11-24T09:03:18.108972Z",
     "start_time": "2020-11-24T09:03:17.900636Z"
    }
   },
   "outputs": [],
   "source": [
    "import matplotlib.pyplot as plt"
   ]
  },
  {
   "cell_type": "code",
   "execution_count": 6,
   "metadata": {
    "ExecuteTime": {
     "end_time": "2020-11-24T09:03:18.214390Z",
     "start_time": "2020-11-24T09:03:18.210190Z"
    }
   },
   "outputs": [],
   "source": [
    "%matplotlib inline"
   ]
  },
  {
   "cell_type": "code",
   "execution_count": 7,
   "metadata": {
    "ExecuteTime": {
     "end_time": "2020-11-24T09:03:18.774924Z",
     "start_time": "2020-11-24T09:03:18.667138Z"
    }
   },
   "outputs": [
    {
     "data": {
      "text/plain": [
       "<matplotlib.image.AxesImage at 0x7f59e79b4710>"
      ]
     },
     "execution_count": 7,
     "metadata": {},
     "output_type": "execute_result"
    },
    {
     "data": {
      "image/png": "[encoded data removed]",
      "text/plain": [
       "<Figure size 432x288 with 1 Axes>"
      ]
     },
     "metadata": {
      "needs_background": "light"
     },
     "output_type": "display_data"
    }
   ],
   "source": [
    "plt.imshow(x_train[0])"
   ]
  },
  {
   "cell_type": "code",
   "execution_count": 9,
   "metadata": {
    "ExecuteTime": {
     "end_time": "2020-11-24T09:03:46.442005Z",
     "start_time": "2020-11-24T09:03:46.330583Z"
    }
   },
   "outputs": [],
   "source": [
    "simple_cnn = tf.keras.Sequential([\n",
    "    tf.keras.layers.Conv2D(kernel_size=3, filters=64, activation='relu', padding=\"same\"),\n",
    "    tf.keras.layers.Conv2D(kernel_size=3, filters=64, activation=\"relu\", padding=\"same\"),\n",
    "    tf.keras.layers.MaxPooling2D(pool_size=2),\n",
    "    tf.keras.layers.Conv2D(kernel_size=3, filters=128, activation=\"relu\", padding=\"same\"),\n",
    "    tf.keras.layers.Conv2D(kernel_size=3, filters=128, activation='relu', padding=\"same\"),\n",
    "    tf.keras.layers.MaxPooling2D(pool_size=2),\n",
    "    tf.keras.layers.Conv2D(kernel_size=1, filters=128, activation=\"relu\", padding=\"same\"),\n",
    "    tf.keras.layers.Conv2D(kernel_size=1, filters=64, activation=\"relu\", padding=\"same\"),\n",
    "    tf.keras.layers.MaxPooling2D(pool_size=2),\n",
    "    tf.keras.layers.Flatten(),\n",
    "    tf.keras.layers.Dense(128, activation=\"relu\"),\n",
    "    tf.keras.layers.Dense(10)\n",
    "])"
   ]
  },
  {
   "cell_type": "code",
   "execution_count": 10,
   "metadata": {
    "ExecuteTime": {
     "end_time": "2020-11-24T09:03:47.243766Z",
     "start_time": "2020-11-24T09:03:47.227102Z"
    }
   },
   "outputs": [],
   "source": [
    "simple_cnn.compile(\n",
    "    optimizer=tf.keras.optimizers.Adam(0.005),\n",
    "    loss=tf.keras.losses.CategoricalCrossentropy(from_logits=True),\n",
    ")"
   ]
  },
  {
   "cell_type": "code",
   "execution_count": 11,
   "metadata": {
    "ExecuteTime": {
     "end_time": "2020-11-24T09:03:51.699289Z",
     "start_time": "2020-11-24T09:03:51.651489Z"
    }
   },
   "outputs": [],
   "source": [
    "simple_cnn.build((None,)+ x_train.shape[1:])"
   ]
  },
  {
   "cell_type": "code",
   "execution_count": 12,
   "metadata": {
    "ExecuteTime": {
     "end_time": "2020-11-24T09:03:53.893511Z",
     "start_time": "2020-11-24T09:03:53.884217Z"
    }
   },
   "outputs": [
    {
     "name": "stdout",
     "output_type": "stream",
     "text": [
      "Model: \"sequential\"\n",
      "_________________________________________________________________\n",
      "Layer (type)                 Output Shape              Param #   \n",
      "=================================================================\n",
      "conv2d (Conv2D)              (None, 32, 32, 64)        1792      \n",
      "_________________________________________________________________\n",
      "conv2d_1 (Conv2D)            (None, 32, 32, 64)        36928     \n",
      "_________________________________________________________________\n",
      "max_pooling2d (MaxPooling2D) (None, 16, 16, 64)        0         \n",
      "_________________________________________________________________\n",
      "conv2d_2 (Conv2D)            (None, 16, 16, 128)       73856     \n",
      "_________________________________________________________________\n",
      "conv2d_3 (Conv2D)            (None, 16, 16, 128)       147584    \n",
      "_________________________________________________________________\n",
      "max_pooling2d_1 (MaxPooling2 (None, 8, 8, 128)         0         \n",
      "_________________________________________________________________\n",
      "conv2d_4 (Conv2D)            (None, 8, 8, 128)         16512     \n",
      "_________________________________________________________________\n",
      "conv2d_5 (Conv2D)            (None, 8, 8, 64)          8256      \n",
      "_________________________________________________________________\n",
      "max_pooling2d_2 (MaxPooling2 (None, 4, 4, 64)          0         \n",
      "_________________________________________________________________\n",
      "flatten (Flatten)            (None, 1024)              0         \n",
      "_________________________________________________________________\n",
      "dense (Dense)                (None, 128)               131200    \n",
      "_________________________________________________________________\n",
      "dense_1 (Dense)              (None, 10)                1290      \n",
      "=================================================================\n",
      "Total params: 417,418\n",
      "Trainable params: 417,418\n",
      "Non-trainable params: 0\n",
      "_________________________________________________________________\n"
     ]
    }
   ],
   "source": [
    "simple_cnn.summary()"
   ]
  },
  {
   "cell_type": "code",
   "execution_count": 13,
   "metadata": {
    "ExecuteTime": {
     "end_time": "2020-11-24T09:03:58.470139Z",
     "start_time": "2020-11-24T09:03:58.466169Z"
    }
   },
   "outputs": [
    {
     "data": {
      "text/plain": [
       "1630.5390625"
      ]
     },
     "execution_count": 13,
     "metadata": {},
     "output_type": "execute_result"
    }
   ],
   "source": [
    "417418 * 4 / 1024 # the model size in kB"
   ]
  },
  {
   "cell_type": "code",
   "execution_count": 14,
   "metadata": {
    "ExecuteTime": {
     "end_time": "2020-11-24T09:03:59.484541Z",
     "start_time": "2020-11-24T09:03:59.480378Z"
    }
   },
   "outputs": [
    {
     "data": {
      "text/plain": [
       "543.5130208333334"
      ]
     },
     "execution_count": 14,
     "metadata": {},
     "output_type": "execute_result"
    }
   ],
   "source": [
    "417418 * 4 / 1024 / 3 # the quantized model size in kB (approx.)"
   ]
  },
  {
   "cell_type": "code",
   "execution_count": 15,
   "metadata": {
    "ExecuteTime": {
     "end_time": "2020-11-24T09:18:19.870023Z",
     "start_time": "2020-11-24T09:04:09.487235Z"
    }
   },
   "outputs": [
    {
     "name": "stdout",
     "output_type": "stream",
     "text": [
      "Epoch 1/10\n",
      "391/391 [==============================] - 83s 212ms/step - loss: 1.9043\n",
      "Epoch 2/10\n",
      "391/391 [==============================] - 83s 212ms/step - loss: 1.4742\n",
      "Epoch 3/10\n",
      "391/391 [==============================] - 83s 213ms/step - loss: 1.2999\n",
      "Epoch 4/10\n",
      "391/391 [==============================] - 83s 213ms/step - loss: 1.1790\n",
      "Epoch 5/10\n",
      "391/391 [==============================] - 83s 213ms/step - loss: 1.0825\n",
      "Epoch 6/10\n",
      "391/391 [==============================] - 85s 216ms/step - loss: 1.0205\n",
      "Epoch 7/10\n",
      "391/391 [==============================] - 90s 231ms/step - loss: 0.9576\n",
      "Epoch 8/10\n",
      "391/391 [==============================] - 85s 217ms/step - loss: 0.9294\n",
      "Epoch 9/10\n",
      "391/391 [==============================] - 86s 221ms/step - loss: 0.8923\n",
      "Epoch 10/10\n",
      "391/391 [==============================] - 85s 217ms/step - loss: 0.8722\n"
     ]
    },
    {
     "data": {
      "text/plain": [
       "<tensorflow.python.keras.callbacks.History at 0x7f59e7723f28>"
      ]
     },
     "execution_count": 15,
     "metadata": {},
     "output_type": "execute_result"
    }
   ],
   "source": [
    "simple_cnn.fit(\n",
    "    x_train,\n",
    "    tf.one_hot(y_train.ravel(), 10).numpy(),\n",
    "    shuffle=True,\n",
    "    batch_size=128,\n",
    "    epochs=10\n",
    ")"
   ]
  },
  {
   "cell_type": "code",
   "execution_count": 16,
   "metadata": {
    "ExecuteTime": {
     "end_time": "2020-11-24T09:18:25.580637Z",
     "start_time": "2020-11-24T09:18:19.871213Z"
    }
   },
   "outputs": [],
   "source": [
    "logits = simple_cnn(x_test)\n",
    "y_hat = np.argmax(\n",
    "    logits.numpy(),\n",
    "    axis=-1,\n",
    ")"
   ]
  },
  {
   "cell_type": "code",
   "execution_count": 17,
   "metadata": {
    "ExecuteTime": {
     "end_time": "2020-11-24T09:18:25.584751Z",
     "start_time": "2020-11-24T09:18:25.581917Z"
    }
   },
   "outputs": [
    {
     "data": {
      "text/plain": [
       "0.6622"
      ]
     },
     "execution_count": 17,
     "metadata": {},
     "output_type": "execute_result"
    }
   ],
   "source": [
    "(y_hat == y_test.ravel()).mean()"
   ]
  },
  {
   "cell_type": "code",
   "execution_count": 18,
   "metadata": {
    "ExecuteTime": {
     "end_time": "2020-11-24T09:18:25.607536Z",
     "start_time": "2020-11-24T09:18:25.585638Z"
    }
   },
   "outputs": [],
   "source": [
    "def representative_dataset():\n",
    "    for idx in np.random.randint(0, x_train.shape[0], 1024):\n",
    "        yield [x_train[[idx]]]"
   ]
  },
  {
   "cell_type": "code",
   "execution_count": 21,
   "metadata": {
    "ExecuteTime": {
     "end_time": "2020-11-24T09:20:13.683940Z",
     "start_time": "2020-11-24T09:20:07.203316Z"
    }
   },
   "outputs": [
    {
     "name": "stdout",
     "output_type": "stream",
     "text": [
      "INFO:tensorflow:Assets written to: /tmp/utensor_mjhjx1cw/saved_model/assets\n"
     ]
    },
    {
     "name": "stderr",
     "output_type": "stream",
     "text": [
      "INFO:tensorflow:Assets written to: /tmp/utensor_mjhjx1cw/saved_model/assets\n"
     ]
    },
    {
     "name": "stdout",
     "output_type": "stream",
     "text": [
      "[WARNING tflite.py _build_tensor_map @ 87] Unexpected character founded in tensor name sequential/flatten/Const;StatefulPartitionedCall/sequential/flatten/Const, will be replaced or pruned\n"
     ]
    },
    {
     "name": "stderr",
     "output_type": "stream",
     "text": [
      "WARNING:utensor-cli:Unexpected character founded in tensor name sequential/flatten/Const;StatefulPartitionedCall/sequential/flatten/Const, will be replaced or pruned\n"
     ]
    },
    {
     "name": "stdout",
     "output_type": "stream",
     "text": [
      "[WARNING tflite.py _build_tensor_map @ 87] Unexpected character founded in tensor name sequential/dense/MatMul;StatefulPartitionedCall/sequential/dense/MatMul, will be replaced or pruned\n"
     ]
    },
    {
     "name": "stderr",
     "output_type": "stream",
     "text": [
      "WARNING:utensor-cli:Unexpected character founded in tensor name sequential/dense/MatMul;StatefulPartitionedCall/sequential/dense/MatMul, will be replaced or pruned\n"
     ]
    },
    {
     "name": "stdout",
     "output_type": "stream",
     "text": [
      "[WARNING tflite.py _build_tensor_map @ 87] Unexpected character founded in tensor name sequential/dense_1/MatMul;StatefulPartitionedCall/sequential/dense_1/MatMul, will be replaced or pruned\n"
     ]
    },
    {
     "name": "stderr",
     "output_type": "stream",
     "text": [
      "WARNING:utensor-cli:Unexpected character founded in tensor name sequential/dense_1/MatMul;StatefulPartitionedCall/sequential/dense_1/MatMul, will be replaced or pruned\n"
     ]
    },
    {
     "name": "stdout",
     "output_type": "stream",
     "text": [
      "[WARNING tflite.py _build_tensor_map @ 87] Unexpected character founded in tensor name sequential/conv2d/Conv2D;StatefulPartitionedCall/sequential/conv2d/Conv2D, will be replaced or pruned\n"
     ]
    },
    {
     "name": "stderr",
     "output_type": "stream",
     "text": [
      "WARNING:utensor-cli:Unexpected character founded in tensor name sequential/conv2d/Conv2D;StatefulPartitionedCall/sequential/conv2d/Conv2D, will be replaced or pruned\n"
     ]
    },
    {
     "name": "stdout",
     "output_type": "stream",
     "text": [
      "[WARNING tflite.py _build_tensor_map @ 87] Unexpected character founded in tensor name sequential/conv2d_1/Conv2D;StatefulPartitionedCall/sequential/conv2d_1/Conv2D, will be replaced or pruned\n"
     ]
    },
    {
     "name": "stderr",
     "output_type": "stream",
     "text": [
      "WARNING:utensor-cli:Unexpected character founded in tensor name sequential/conv2d_1/Conv2D;StatefulPartitionedCall/sequential/conv2d_1/Conv2D, will be replaced or pruned\n"
     ]
    },
    {
     "name": "stdout",
     "output_type": "stream",
     "text": [
      "[WARNING tflite.py _build_tensor_map @ 87] Unexpected character founded in tensor name sequential/conv2d_2/Conv2D;StatefulPartitionedCall/sequential/conv2d_2/Conv2D, will be replaced or pruned\n"
     ]
    },
    {
     "name": "stderr",
     "output_type": "stream",
     "text": [
      "WARNING:utensor-cli:Unexpected character founded in tensor name sequential/conv2d_2/Conv2D;StatefulPartitionedCall/sequential/conv2d_2/Conv2D, will be replaced or pruned\n"
     ]
    },
    {
     "name": "stdout",
     "output_type": "stream",
     "text": [
      "[WARNING tflite.py _build_tensor_map @ 87] Unexpected character founded in tensor name sequential/conv2d_3/Conv2D;StatefulPartitionedCall/sequential/conv2d_3/Conv2D, will be replaced or pruned\n"
     ]
    },
    {
     "name": "stderr",
     "output_type": "stream",
     "text": [
      "WARNING:utensor-cli:Unexpected character founded in tensor name sequential/conv2d_3/Conv2D;StatefulPartitionedCall/sequential/conv2d_3/Conv2D, will be replaced or pruned\n"
     ]
    },
    {
     "name": "stdout",
     "output_type": "stream",
     "text": [
      "[WARNING tflite.py _build_tensor_map @ 87] Unexpected character founded in tensor name sequential/conv2d_4/Conv2D;StatefulPartitionedCall/sequential/conv2d_4/Conv2D, will be replaced or pruned\n"
     ]
    },
    {
     "name": "stderr",
     "output_type": "stream",
     "text": [
      "WARNING:utensor-cli:Unexpected character founded in tensor name sequential/conv2d_4/Conv2D;StatefulPartitionedCall/sequential/conv2d_4/Conv2D, will be replaced or pruned\n"
     ]
    },
    {
     "name": "stdout",
     "output_type": "stream",
     "text": [
      "[WARNING tflite.py _build_tensor_map @ 87] Unexpected character founded in tensor name sequential/conv2d_5/Conv2D;StatefulPartitionedCall/sequential/conv2d_5/Conv2D, will be replaced or pruned\n"
     ]
    },
    {
     "name": "stderr",
     "output_type": "stream",
     "text": [
      "WARNING:utensor-cli:Unexpected character founded in tensor name sequential/conv2d_5/Conv2D;StatefulPartitionedCall/sequential/conv2d_5/Conv2D, will be replaced or pruned\n"
     ]
    },
    {
     "name": "stdout",
     "output_type": "stream",
     "text": [
      "[WARNING tflite.py _build_tensor_map @ 87] Unexpected character founded in tensor name sequential/conv2d/Relu;StatefulPartitionedCall/sequential/conv2d/Relu;sequential/conv2d/BiasAdd;StatefulPartitionedCall/sequential/conv2d/BiasAdd;sequential/conv2d_5/Conv2D;StatefulPartitionedCall/sequential/conv2d_5/Conv2D;sequential/conv2d/Conv2D;StatefulPartitionedCall/sequential/conv2d/Conv2D;unknown_0, will be replaced or pruned\n"
     ]
    },
    {
     "name": "stderr",
     "output_type": "stream",
     "text": [
      "WARNING:utensor-cli:Unexpected character founded in tensor name sequential/conv2d/Relu;StatefulPartitionedCall/sequential/conv2d/Relu;sequential/conv2d/BiasAdd;StatefulPartitionedCall/sequential/conv2d/BiasAdd;sequential/conv2d_5/Conv2D;StatefulPartitionedCall/sequential/conv2d_5/Conv2D;sequential/conv2d/Conv2D;StatefulPartitionedCall/sequential/conv2d/Conv2D;unknown_0, will be replaced or pruned\n"
     ]
    },
    {
     "name": "stdout",
     "output_type": "stream",
     "text": [
      "[WARNING tflite.py _build_tensor_map @ 87] Unexpected character founded in tensor name sequential/conv2d_1/Relu;StatefulPartitionedCall/sequential/conv2d_1/Relu;sequential/conv2d_1/BiasAdd;StatefulPartitionedCall/sequential/conv2d_1/BiasAdd;sequential/conv2d_5/Conv2D;StatefulPartitionedCall/sequential/conv2d_5/Conv2D;sequential/conv2d_1/Conv2D;StatefulPartitionedCall/sequential/conv2d_1/Conv2D;unknown_2, will be replaced or pruned\n"
     ]
    },
    {
     "name": "stderr",
     "output_type": "stream",
     "text": [
      "WARNING:utensor-cli:Unexpected character founded in tensor name sequential/conv2d_1/Relu;StatefulPartitionedCall/sequential/conv2d_1/Relu;sequential/conv2d_1/BiasAdd;StatefulPartitionedCall/sequential/conv2d_1/BiasAdd;sequential/conv2d_5/Conv2D;StatefulPartitionedCall/sequential/conv2d_5/Conv2D;sequential/conv2d_1/Conv2D;StatefulPartitionedCall/sequential/conv2d_1/Conv2D;unknown_2, will be replaced or pruned\n"
     ]
    },
    {
     "name": "stdout",
     "output_type": "stream",
     "text": [
      "[WARNING tflite.py _build_tensor_map @ 87] Unexpected character founded in tensor name sequential/max_pooling2d/MaxPool;StatefulPartitionedCall/sequential/max_pooling2d/MaxPool, will be replaced or pruned\n"
     ]
    },
    {
     "name": "stderr",
     "output_type": "stream",
     "text": [
      "WARNING:utensor-cli:Unexpected character founded in tensor name sequential/max_pooling2d/MaxPool;StatefulPartitionedCall/sequential/max_pooling2d/MaxPool, will be replaced or pruned\n"
     ]
    },
    {
     "name": "stdout",
     "output_type": "stream",
     "text": [
      "[WARNING tflite.py _build_tensor_map @ 87] Unexpected character founded in tensor name sequential/conv2d_2/Relu;StatefulPartitionedCall/sequential/conv2d_2/Relu;sequential/conv2d_2/BiasAdd;StatefulPartitionedCall/sequential/conv2d_2/BiasAdd;sequential/conv2d_4/Conv2D;StatefulPartitionedCall/sequential/conv2d_4/Conv2D;sequential/conv2d_2/Conv2D;StatefulPartitionedCall/sequential/conv2d_2/Conv2D;unknown_4, will be replaced or pruned\n"
     ]
    },
    {
     "name": "stderr",
     "output_type": "stream",
     "text": [
      "WARNING:utensor-cli:Unexpected character founded in tensor name sequential/conv2d_2/Relu;StatefulPartitionedCall/sequential/conv2d_2/Relu;sequential/conv2d_2/BiasAdd;StatefulPartitionedCall/sequential/conv2d_2/BiasAdd;sequential/conv2d_4/Conv2D;StatefulPartitionedCall/sequential/conv2d_4/Conv2D;sequential/conv2d_2/Conv2D;StatefulPartitionedCall/sequential/conv2d_2/Conv2D;unknown_4, will be replaced or pruned\n"
     ]
    },
    {
     "name": "stdout",
     "output_type": "stream",
     "text": [
      "[WARNING tflite.py _build_tensor_map @ 87] Unexpected character founded in tensor name sequential/conv2d_3/Relu;StatefulPartitionedCall/sequential/conv2d_3/Relu;sequential/conv2d_3/BiasAdd;StatefulPartitionedCall/sequential/conv2d_3/BiasAdd;sequential/conv2d_4/Conv2D;StatefulPartitionedCall/sequential/conv2d_4/Conv2D;sequential/conv2d_3/Conv2D;StatefulPartitionedCall/sequential/conv2d_3/Conv2D;unknown_6, will be replaced or pruned\n"
     ]
    },
    {
     "name": "stderr",
     "output_type": "stream",
     "text": [
      "WARNING:utensor-cli:Unexpected character founded in tensor name sequential/conv2d_3/Relu;StatefulPartitionedCall/sequential/conv2d_3/Relu;sequential/conv2d_3/BiasAdd;StatefulPartitionedCall/sequential/conv2d_3/BiasAdd;sequential/conv2d_4/Conv2D;StatefulPartitionedCall/sequential/conv2d_4/Conv2D;sequential/conv2d_3/Conv2D;StatefulPartitionedCall/sequential/conv2d_3/Conv2D;unknown_6, will be replaced or pruned\n"
     ]
    },
    {
     "name": "stdout",
     "output_type": "stream",
     "text": [
      "[WARNING tflite.py _build_tensor_map @ 87] Unexpected character founded in tensor name sequential/max_pooling2d_1/MaxPool;StatefulPartitionedCall/sequential/max_pooling2d_1/MaxPool, will be replaced or pruned\n"
     ]
    },
    {
     "name": "stderr",
     "output_type": "stream",
     "text": [
      "WARNING:utensor-cli:Unexpected character founded in tensor name sequential/max_pooling2d_1/MaxPool;StatefulPartitionedCall/sequential/max_pooling2d_1/MaxPool, will be replaced or pruned\n"
     ]
    },
    {
     "name": "stdout",
     "output_type": "stream",
     "text": [
      "[WARNING tflite.py _build_tensor_map @ 87] Unexpected character founded in tensor name sequential/conv2d_4/Relu;StatefulPartitionedCall/sequential/conv2d_4/Relu;sequential/conv2d_4/BiasAdd;StatefulPartitionedCall/sequential/conv2d_4/BiasAdd;sequential/conv2d_4/Conv2D;StatefulPartitionedCall/sequential/conv2d_4/Conv2D;unknown_8, will be replaced or pruned\n"
     ]
    },
    {
     "name": "stderr",
     "output_type": "stream",
     "text": [
      "WARNING:utensor-cli:Unexpected character founded in tensor name sequential/conv2d_4/Relu;StatefulPartitionedCall/sequential/conv2d_4/Relu;sequential/conv2d_4/BiasAdd;StatefulPartitionedCall/sequential/conv2d_4/BiasAdd;sequential/conv2d_4/Conv2D;StatefulPartitionedCall/sequential/conv2d_4/Conv2D;unknown_8, will be replaced or pruned\n"
     ]
    },
    {
     "name": "stdout",
     "output_type": "stream",
     "text": [
      "[WARNING tflite.py _build_tensor_map @ 87] Unexpected character founded in tensor name sequential/conv2d_5/Relu;StatefulPartitionedCall/sequential/conv2d_5/Relu;sequential/conv2d_5/BiasAdd;StatefulPartitionedCall/sequential/conv2d_5/BiasAdd;sequential/conv2d_5/Conv2D;StatefulPartitionedCall/sequential/conv2d_5/Conv2D;unknown_10, will be replaced or pruned\n"
     ]
    },
    {
     "name": "stderr",
     "output_type": "stream",
     "text": [
      "WARNING:utensor-cli:Unexpected character founded in tensor name sequential/conv2d_5/Relu;StatefulPartitionedCall/sequential/conv2d_5/Relu;sequential/conv2d_5/BiasAdd;StatefulPartitionedCall/sequential/conv2d_5/BiasAdd;sequential/conv2d_5/Conv2D;StatefulPartitionedCall/sequential/conv2d_5/Conv2D;unknown_10, will be replaced or pruned\n"
     ]
    },
    {
     "name": "stdout",
     "output_type": "stream",
     "text": [
      "[WARNING tflite.py _build_tensor_map @ 87] Unexpected character founded in tensor name sequential/max_pooling2d_2/MaxPool;StatefulPartitionedCall/sequential/max_pooling2d_2/MaxPool, will be replaced or pruned\n"
     ]
    },
    {
     "name": "stderr",
     "output_type": "stream",
     "text": [
      "WARNING:utensor-cli:Unexpected character founded in tensor name sequential/max_pooling2d_2/MaxPool;StatefulPartitionedCall/sequential/max_pooling2d_2/MaxPool, will be replaced or pruned\n"
     ]
    },
    {
     "name": "stdout",
     "output_type": "stream",
     "text": [
      "[WARNING tflite.py _build_tensor_map @ 87] Unexpected character founded in tensor name sequential/flatten/Reshape;StatefulPartitionedCall/sequential/flatten/Reshape, will be replaced or pruned\n"
     ]
    },
    {
     "name": "stderr",
     "output_type": "stream",
     "text": [
      "WARNING:utensor-cli:Unexpected character founded in tensor name sequential/flatten/Reshape;StatefulPartitionedCall/sequential/flatten/Reshape, will be replaced or pruned\n"
     ]
    },
    {
     "name": "stdout",
     "output_type": "stream",
     "text": [
      "[WARNING tflite.py _build_tensor_map @ 87] Unexpected character founded in tensor name sequential/dense/Relu;StatefulPartitionedCall/sequential/dense/Relu;sequential/dense/BiasAdd;StatefulPartitionedCall/sequential/dense/BiasAdd, will be replaced or pruned\n"
     ]
    },
    {
     "name": "stderr",
     "output_type": "stream",
     "text": [
      "WARNING:utensor-cli:Unexpected character founded in tensor name sequential/dense/Relu;StatefulPartitionedCall/sequential/dense/Relu;sequential/dense/BiasAdd;StatefulPartitionedCall/sequential/dense/BiasAdd, will be replaced or pruned\n"
     ]
    },
    {
     "name": "stdout",
     "output_type": "stream",
     "text": [
      "[WARNING base.py __attrs_post_init__ @ 299] cannot convert new_shape to generic value: [](<class 'list'>)\n"
     ]
    },
    {
     "name": "stderr",
     "output_type": "stream",
     "text": [
      "WARNING:utensor-cli:cannot convert new_shape to generic value: [](<class 'list'>)\n"
     ]
    },
    {
     "name": "stdout",
     "output_type": "stream",
     "text": [
      "[WARNING tflite.py _hotfix_reshape @ 279] 10_RESHAPE has no new_shape as its attributes, using the second input tensor as new shape instead\n"
     ]
    },
    {
     "name": "stderr",
     "output_type": "stream",
     "text": [
      "WARNING:utensor-cli:10_RESHAPE has no new_shape as its attributes, using the second input tensor as new shape instead\n"
     ]
    },
    {
     "name": "stdout",
     "output_type": "stream",
     "text": [
      "[WARNING tflite.py _hotfix_reshape @ 291] implicit convert negative shape of reshape op to positive: [-1, 1024] -> [1, 1024]\n"
     ]
    },
    {
     "name": "stderr",
     "output_type": "stream",
     "text": [
      "WARNING:utensor-cli:implicit convert negative shape of reshape op to positive: [-1, 1024] -> [1, 1024]\n"
     ]
    },
    {
     "name": "stdout",
     "output_type": "stream",
     "text": [
      "[INFO transformer.py transform @ 23] Transforming graph: simple_cnn\n"
     ]
    },
    {
     "name": "stderr",
     "output_type": "stream",
     "text": [
      "INFO:utensor-cli:Transforming graph: simple_cnn\n"
     ]
    },
    {
     "name": "stdout",
     "output_type": "stream",
     "text": [
      "[INFO transformer.py transform @ 24] Transform pipeline: dropout(name_pattern=r'(dropout[_\\w\\d]*)/.*') -> linear_reorder -> inline -> biasAdd -> remove_id_op -> fake_gather_v2 -> refcnt\n"
     ]
    },
    {
     "name": "stderr",
     "output_type": "stream",
     "text": [
      "INFO:utensor-cli:Transform pipeline: dropout(name_pattern=r'(dropout[_\\w\\d]*)/.*') -> linear_reorder -> inline -> biasAdd -> remove_id_op -> fake_gather_v2 -> refcnt\n"
     ]
    },
    {
     "name": "stdout",
     "output_type": "stream",
     "text": [
      "[WARNING base.py __attrs_post_init__ @ 299] cannot convert new_shape to generic value: [1, 1024](<class 'list'>)\n"
     ]
    },
    {
     "name": "stderr",
     "output_type": "stream",
     "text": [
      "WARNING:utensor-cli:cannot convert new_shape to generic value: [1, 1024](<class 'list'>)\n"
     ]
    },
    {
     "name": "stdout",
     "output_type": "stream",
     "text": [
      "[WARNING base.py __attrs_post_init__ @ 299] cannot convert new_shape to generic value: [1, 1024](<class 'list'>)\n"
     ]
    },
    {
     "name": "stderr",
     "output_type": "stream",
     "text": [
      "WARNING:utensor-cli:cannot convert new_shape to generic value: [1, 1024](<class 'list'>)\n"
     ]
    },
    {
     "name": "stdout",
     "output_type": "stream",
     "text": [
      "[WARNING base.py __attrs_post_init__ @ 299] cannot convert new_shape to generic value: [1, 1024](<class 'list'>)\n"
     ]
    },
    {
     "name": "stderr",
     "output_type": "stream",
     "text": [
      "WARNING:utensor-cli:cannot convert new_shape to generic value: [1, 1024](<class 'list'>)\n"
     ]
    },
    {
     "name": "stdout",
     "output_type": "stream",
     "text": [
      "[WARNING base.py __attrs_post_init__ @ 299] cannot convert new_shape to generic value: [1, 1024](<class 'list'>)\n"
     ]
    },
    {
     "name": "stderr",
     "output_type": "stream",
     "text": [
      "WARNING:utensor-cli:cannot convert new_shape to generic value: [1, 1024](<class 'list'>)\n"
     ]
    },
    {
     "name": "stdout",
     "output_type": "stream",
     "text": [
      "[WARNING ns_transformer.py transform @ 243] enabling fake_gather_v2 will force replacing GatherV2 with Gather\n"
     ]
    },
    {
     "name": "stderr",
     "output_type": "stream",
     "text": [
      "WARNING:utensor-cli:enabling fake_gather_v2 will force replacing GatherV2 with Gather\n"
     ]
    },
    {
     "name": "stdout",
     "output_type": "stream",
     "text": [
      "[WARNING base.py __attrs_post_init__ @ 299] cannot convert new_shape to generic value: [1, 1024](<class 'list'>)\n"
     ]
    },
    {
     "name": "stderr",
     "output_type": "stream",
     "text": [
      "WARNING:utensor-cli:cannot convert new_shape to generic value: [1, 1024](<class 'list'>)\n"
     ]
    },
    {
     "name": "stdout",
     "output_type": "stream",
     "text": [
      "[WARNING base.py __attrs_post_init__ @ 299] cannot convert new_shape to generic value: [1, 1024](<class 'list'>)\n"
     ]
    },
    {
     "name": "stderr",
     "output_type": "stream",
     "text": [
      "WARNING:utensor-cli:cannot convert new_shape to generic value: [1, 1024](<class 'list'>)\n"
     ]
    },
    {
     "name": "stdout",
     "output_type": "stream",
     "text": [
      "[INFO transformer.py transform @ 31] Graph transormation done\n"
     ]
    },
    {
     "name": "stderr",
     "output_type": "stream",
     "text": [
      "INFO:utensor-cli:Graph transormation done\n"
     ]
    },
    {
     "name": "stdout",
     "output_type": "stream",
     "text": [
      "[INFO generic_graph_lower.py apply @ 56] topo ordered tensor life span analysis done\n"
     ]
    },
    {
     "name": "stderr",
     "output_type": "stream",
     "text": [
      "INFO:utensor-cli:topo ordered tensor life span analysis done\n"
     ]
    },
    {
     "name": "stdout",
     "output_type": "stream",
     "text": [
      "[INFO utils.py wrapped @ 469] collapsed time of calling apply: 0.0012 seconds\n"
     ]
    },
    {
     "name": "stderr",
     "output_type": "stream",
     "text": [
      "INFO:utensor-cli:collapsed time of calling apply: 0.0012 seconds\n"
     ]
    },
    {
     "name": "stdout",
     "output_type": "stream",
     "text": [
      "[INFO generic_graph_lower.py _solve_space_alloc @ 204] optimal tensor allocation plan solved, total memory required: 131072 bytes\n"
     ]
    },
    {
     "name": "stderr",
     "output_type": "stream",
     "text": [
      "INFO:utensor-cli:optimal tensor allocation plan solved, total memory required: 131072 bytes\n"
     ]
    },
    {
     "name": "stdout",
     "output_type": "stream",
     "text": [
      "[INFO generic_graph_lower.py _solve_space_alloc @ 205] number of tensors allocated: 20\n"
     ]
    },
    {
     "name": "stderr",
     "output_type": "stream",
     "text": [
      "INFO:utensor-cli:number of tensors allocated: 20\n"
     ]
    },
    {
     "name": "stdout",
     "output_type": "stream",
     "text": [
      "[INFO utils.py wrapped @ 469] collapsed time of calling _solve_space_alloc: 0.0061 seconds\n"
     ]
    },
    {
     "name": "stderr",
     "output_type": "stream",
     "text": [
      "INFO:utensor-cli:collapsed time of calling _solve_space_alloc: 0.0061 seconds\n"
     ]
    },
    {
     "name": "stdout",
     "output_type": "stream",
     "text": [
      "[INFO _code_generator.py _time_slot_generate_files @ 245] model parameters header file generated: constants/simple_cnn/params_simple_cnn.hpp\n"
     ]
    },
    {
     "name": "stderr",
     "output_type": "stream",
     "text": [
      "INFO:utensor-cli:model parameters header file generated: constants/simple_cnn/params_simple_cnn.hpp\n"
     ]
    },
    {
     "name": "stdout",
     "output_type": "stream",
     "text": [
      "[INFO _code_generator.py _time_slot_generate_files @ 266] model header file generated: models/simple_cnn/simple_cnn.hpp\n"
     ]
    },
    {
     "name": "stderr",
     "output_type": "stream",
     "text": [
      "INFO:utensor-cli:model header file generated: models/simple_cnn/simple_cnn.hpp\n"
     ]
    },
    {
     "name": "stdout",
     "output_type": "stream",
     "text": [
      "[INFO _code_generator.py _time_slot_generate_files @ 286] model cpp file generated: models/simple_cnn/simple_cnn.cpp\n"
     ]
    },
    {
     "name": "stderr",
     "output_type": "stream",
     "text": [
      "INFO:utensor-cli:model cpp file generated: models/simple_cnn/simple_cnn.cpp\n"
     ]
    }
   ],
   "source": [
    "tflm_keras_export(\n",
    "    simple_cnn,\n",
    "    representative_dataset,\n",
    "    model_name=\"simple_cnn\",\n",
    "    output_tflite_fname='simple_cnn.tflite'\n",
    ")"
   ]
  },
  {
   "cell_type": "code",
   "execution_count": null,
   "metadata": {},
   "outputs": [],
   "source": []
  }
 ],
 "metadata": {
  "kernelspec": {
   "display_name": "dl-env",
   "language": "python",
   "name": "dl-env"
  },
  "language_info": {
   "codemirror_mode": {
    "name": "ipython",
    "version": 3
   },
   "file_extension": ".py",
   "mimetype": "text/x-python",
   "name": "python",
   "nbconvert_exporter": "python",
   "pygments_lexer": "ipython3",
   "version": "3.6.9"
  },
  "toc": {
   "base_numbering": 1,
   "nav_menu": {},
   "number_sections": true,
   "sideBar": true,
   "skip_h1_title": false,
   "title_cell": "Table of Contents",
   "title_sidebar": "Contents",
   "toc_cell": false,
   "toc_position": {},
   "toc_section_display": true,
   "toc_window_display": false
  }
 },
 "nbformat": 4,
 "nbformat_minor": 4
}
