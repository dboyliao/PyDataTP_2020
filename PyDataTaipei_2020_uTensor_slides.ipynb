{
 "cells": [
  {
   "cell_type": "markdown",
   "metadata": {
    "slideshow": {
     "slide_type": "slide"
    }
   },
   "source": [
    "# uTensor: Deep Learning Inference Engine Born for Embedded System\n",
    "\n",
    "\n",
    "by [`Dboy Liao`](https://github.com/dboyliao)\n",
    "\n",
    "[slido](https://app.sli.do/event/imdxbmlc/live/questions)"
   ]
  },
  {
   "cell_type": "markdown",
   "metadata": {
    "slideshow": {
     "slide_type": "slide"
    }
   },
   "source": [
    "# About Me\n",
    "\n",
    "- A Python Developer\n",
    "- Interested in machine learning, applied math and its development\n",
    "- Core developer of [`uTensor`](https://utensor.github.io/website/)"
   ]
  },
  {
   "cell_type": "markdown",
   "metadata": {
    "slideshow": {
     "slide_type": "subslide"
    }
   },
   "source": [
    "## Our Team\n",
    "\n",
    "![utensor-team](images/utensor-team.jpg)"
   ]
  },
  {
   "cell_type": "markdown",
   "metadata": {
    "slideshow": {
     "slide_type": "subslide"
    }
   },
   "source": [
    "## Where the Journey Started, Exoskeleton\n",
    "\n",
    "![outer-skeleton](images/outer-skeleton.png)"
   ]
  },
  {
   "cell_type": "markdown",
   "metadata": {
    "slideshow": {
     "slide_type": "subslide"
    }
   },
   "source": [
    "## What We Want"
   ]
  },
  {
   "cell_type": "markdown",
   "metadata": {
    "slideshow": {
     "slide_type": "fragment"
    }
   },
   "source": [
    "- A smart sensor other than hand-crafted one"
   ]
  },
  {
   "cell_type": "markdown",
   "metadata": {
    "slideshow": {
     "slide_type": "fragment"
    }
   },
   "source": [
    "- Adaptive, customizable"
   ]
  },
  {
   "cell_type": "markdown",
   "metadata": {
    "slideshow": {
     "slide_type": "fragment"
    }
   },
   "source": [
    "- Runs on low-powered devices"
   ]
  },
  {
   "cell_type": "markdown",
   "metadata": {
    "slideshow": {
     "slide_type": "fragment"
    }
   },
   "source": [
    "- User friendly and easy to debug"
   ]
  },
  {
   "cell_type": "markdown",
   "metadata": {
    "slideshow": {
     "slide_type": "fragment"
    }
   },
   "source": [
    "By the time being, Deep Neural Network technology seems to be our best bet. (Maybe?)"
   ]
  },
  {
   "cell_type": "markdown",
   "metadata": {
    "slideshow": {
     "slide_type": "subslide"
    }
   },
   "source": [
    "## Tensorflow Lite Micro\n",
    "\n",
    "![tensorflow-logo](images/tensorflow-logo.svg)\n",
    "\n",
    "- [documentation](https://www.tensorflow.org/lite/microcontrollers)\n",
    "- Interpretor based\n",
    "    - model is represented as an array of bytecodes ([example](https://github.com/tensorflow/tensorflow/blob/master/tensorflow/lite/micro/examples/hello_world/model.cc#L28-L237))\n",
    "    - `tflite::MicroInterpreter` carry out the output values with the bytecodes ([tutorial](https://www.tensorflow.org/lite/microcontrollers/get_started))\n",
    "    - Tensorflow Lite Micro only"
   ]
  },
  {
   "cell_type": "markdown",
   "metadata": {
    "slideshow": {
     "slide_type": "subslide"
    }
   },
   "source": [
    "## `uTensor`\n",
    "\n",
    "![utensor](images/uTensorFlow.jpg)"
   ]
  },
  {
   "cell_type": "markdown",
   "metadata": {
    "slideshow": {
     "slide_type": "subslide"
    }
   },
   "source": [
    "## `utensor_cgen`: Code Generator for `uTensor`\n",
    "\n",
    "![utensor-cgen](images/utensor-cli-components.drawio.svg)"
   ]
  },
  {
   "cell_type": "markdown",
   "metadata": {
    "slideshow": {
     "slide_type": "subslide"
    }
   },
   "source": [
    "- Example: `Quantization`\n",
    "\n",
    "![weight-quantization](images/weight-quantization.png)\n",
    "[credit](https://docs.google.com/presentation/d/1zGm5bqGrkAepwJZ5PABiYjrIKq1pDnzafa8ZYeaFhXY/edit)"
   ]
  },
  {
   "cell_type": "markdown",
   "metadata": {
    "slideshow": {
     "slide_type": "slide"
    }
   },
   "source": [
    "## Agenda\n",
    "\n",
    "Before we move on to how to extend `utensor-cli`, we need to understand how `uTensor` runtime works.\n",
    "\n",
    "We'll go through following tutorials\n",
    "\n",
    "1. Hello World\n",
    "2. Error Handling\n",
    "3. Operator Interface\n",
    "4. Model Interface\n",
    "5. End-to-End Deployment\n",
    "\n",
    "And finally, write a simple plugin/extension for `utensor-cli`"
   ]
  },
  {
   "cell_type": "markdown",
   "metadata": {
    "slideshow": {
     "slide_type": "slide"
    }
   },
   "source": [
    "# Tutorial 1: Hello World!\n",
    "\n",
    "\n",
    "[hello_world.cpp](https://github.com/dboyliao/PyDataTP_2020/blob/master/1_hello_world/hello_world.cpp)\n",
    "\n",
    "![hello-world](images/hello-world.png)"
   ]
  },
  {
   "cell_type": "markdown",
   "metadata": {
    "slideshow": {
     "slide_type": "subslide"
    }
   },
   "source": [
    "## Heterogeneous Tensor Storage\n",
    "\n",
    "\n",
    "```cpp\n",
    "// tensor with data allocated on ROM\n",
    "Tensor rom_tensor = new RomTensor({10, 3}, u8, ptr_to_data);\n",
    "\n",
    "// tensor with data allocated on SRAM\n",
    "Tensor ram_tensor = new RamTensor({10, 3}, flt);\n",
    "```"
   ]
  },
  {
   "cell_type": "markdown",
   "metadata": {
    "slideshow": {
     "slide_type": "subslide"
    }
   },
   "source": [
    "## Unified Tensor Read/Write Interface\n",
    "\n",
    "\n",
    "```cpp\n",
    "class Tensor : public Handle {\n",
    "  ....\n",
    "  const IntegralValue operator()(uint32_t linear_index) const;\n",
    "  IntegralValue operator()(uint32_t linear_index);\n",
    "  ....\n",
    "}\n",
    "```"
   ]
  },
  {
   "cell_type": "markdown",
   "metadata": {
    "slideshow": {
     "slide_type": "subslide"
    }
   },
   "source": [
    "- `IntegralValue` is like raw bytes which can be interpreted/casted to various values\n",
    "- Before `IntegralValue`:\n",
    "    - `tensor->read<float>(idx)`\n",
    "    - Pros: better syntax (maybe) \n",
    "    - Cons: binary size grows as template specializatons"
   ]
  },
  {
   "cell_type": "markdown",
   "metadata": {
    "slideshow": {
     "slide_type": "subslide"
    }
   },
   "source": [
    "```cpp\n",
    "// Reading from Tensor\n",
    "float value = static_cast<float>(tensor(2));\n",
    "\n",
    "// Writing to Tensor\n",
    "float value = 3.0;\n",
    "tensor(2) = value;\n",
    "```"
   ]
  },
  {
   "cell_type": "markdown",
   "metadata": {
    "slideshow": {
     "slide_type": "fragment"
    }
   },
   "source": [
    "- Supported types of `IntegralValue`\n",
    "\n",
    "```cpp\n",
    "enum ttype : uint8_t { i8, u8, i16, u16, i32, u32, flt, undefined };\n",
    "```"
   ]
  },
  {
   "cell_type": "markdown",
   "metadata": {
    "slideshow": {
     "slide_type": "subslide"
    }
   },
   "source": [
    "## Memory Allocator\n",
    "\n",
    "\n",
    "```cpp\n",
    "static localCircularArenaAllocator<512> meta_alloc;\n",
    "static localCircularArenaAllocator<sizeof(float)*12> ram_alloc;\n",
    "\n",
    "int main(int argc, const char **argv) {\n",
    "  Context::get_default_context()->set_metadata_allocator(&meta_alloc);\n",
    "  Context::get_default_context()->set_ram_data_allocator(&ram_alloc);\n",
    "  ...\n",
    "}\n",
    "```"
   ]
  },
  {
   "cell_type": "markdown",
   "metadata": {
    "slideshow": {
     "slide_type": "subslide"
    }
   },
   "source": [
    "- As allocator created, it will hold a memory pool as the size asigned\n",
    "    - Depends on when and how allocators being created, the memory pool can be allocated at compile time or runtime.\n",
    "- ram allocator controls memory allocation of `RamTensor`\n",
    "- meta allocator controls memory allocation of metadata of `Tensor`, such as shape, element type, ...etc\n",
    "- semi-strong guarantee on memory usage"
   ]
  },
  {
   "cell_type": "code",
   "execution_count": 1,
   "metadata": {
    "ExecuteTime": {
     "end_time": "2020-11-26T05:32:19.104853Z",
     "start_time": "2020-11-26T05:32:16.160634Z"
    },
    "scrolled": true,
    "slideshow": {
     "slide_type": "subslide"
    }
   },
   "outputs": [],
   "source": [
    "from utensor_cgen.logger import logger\n",
    "from utensor_cgen.frontend.tflite import TFLiteParser\n",
    "from utensor_cgen.backend.graph_lower.generic_graph_lower import TensorAllocationPlanner\n",
    "\n",
    "logger.setLevel(\"ERROR\")\n",
    "\n",
    "parser = TFLiteParser({})\n",
    "planner = TensorAllocationPlanner({})\n",
    "ugraph = parser.parse('./5_end2end_deployment/simple_cnn.tflite')"
   ]
  },
  {
   "cell_type": "code",
   "execution_count": 2,
   "metadata": {
    "ExecuteTime": {
     "end_time": "2020-11-26T05:32:19.147770Z",
     "start_time": "2020-11-26T05:32:19.121961Z"
    },
    "slideshow": {
     "slide_type": "subslide"
    }
   },
   "outputs": [
    {
     "name": "stdout",
     "output_type": "stream",
     "text": [
      "[INFO generic_graph_lower.py apply @ 56] topo ordered tensor life span analysis done\n",
      "[INFO utils.py wrapped @ 469] collapsed time of calling apply: 0.0044 seconds\n",
      "[INFO generic_graph_lower.py _solve_space_alloc @ 204] optimal tensor allocation plan solved, total memory required: 172544 bytes\n",
      "[INFO generic_graph_lower.py _solve_space_alloc @ 205] number of tensors allocated: 24\n",
      "[INFO utils.py wrapped @ 469] collapsed time of calling _solve_space_alloc: 0.0147 seconds\n"
     ]
    }
   ],
   "source": [
    "logger.setLevel(\"INFO\")\n",
    "planner.apply(ugraph)"
   ]
  },
  {
   "cell_type": "code",
   "execution_count": 3,
   "metadata": {
    "ExecuteTime": {
     "end_time": "2020-11-25T06:46:59.067769Z",
     "start_time": "2020-11-25T06:46:59.053973Z"
    },
    "slideshow": {
     "slide_type": "subslide"
    }
   },
   "outputs": [
    {
     "name": "stdout",
     "output_type": "stream",
     "text": [
      "sequential_1/conv2d_4/Conv2D__StatefulPartitionedCall/sequential_1/conv2d_4/Conv2D:0 -> [0, 1727]\n",
      "unknown_4:0 -> [0, 511]\n",
      "sequential_1/conv2d_7/Relu__StatefulPartitionedCall/sequential_1/conv2d_7/Relu__sequential_1/conv2d_7/BiasAdd__StatefulPartitionedCall/sequential_1/conv2d_7/BiasAdd__sequential_1/conv2d_7/Conv2D__StatefulPartitionedCall/sequential_1/conv2d_7/Conv2D__unknown_6:0 -> [0, 1023]\n",
      "unknown_6:0 -> [1024, 2047]\n",
      "conv2d_4_input_int8:0 -> [1728, 4799]\n",
      "Identity_int8:0 -> [0, 9]\n",
      "2_CONV_2D/ReLU:0 -> [0, 32767]\n",
      "sequential_1/conv2d_6/Conv2D__StatefulPartitionedCall/sequential_1/conv2d_6/Conv2D:0 -> [512, 147967]\n",
      "sequential_1/conv2d_7/Conv2D__StatefulPartitionedCall/sequential_1/conv2d_7/Conv2D:0 -> [2048, 34815]\n",
      "sequential_1/flatten_1/Reshape__StatefulPartitionedCall/sequential_1/flatten_1/Reshape:0 -> [10, 265]\n",
      "5_CONV_2D/ReLU:0 -> [1024, 2047]\n",
      "1_CONV_2D/ReLU:0 -> [0, 65535]\n",
      "sequential_1/max_pooling2d_2/MaxPool__StatefulPartitionedCall/sequential_1/max_pooling2d_2/MaxPool:0 -> [147968, 156159]\n",
      "sequential_1/conv2d_5/Conv2D__StatefulPartitionedCall/sequential_1/conv2d_5/Conv2D:0 -> [65536, 139263]\n",
      "unknown_8:0 -> [266, 305]\n",
      "sequential_1/conv2d_4/Relu__StatefulPartitionedCall/sequential_1/conv2d_4/Relu__sequential_1/conv2d_4/BiasAdd__StatefulPartitionedCall/sequential_1/conv2d_4/BiasAdd__sequential_1/conv2d_4/Conv2D__StatefulPartitionedCall/sequential_1/conv2d_4/Conv2D__unknown_0:0 -> [65536, 131071]\n",
      "Identity:0 -> [10, 49]\n",
      "sequential_1/conv2d_6/Relu__StatefulPartitionedCall/sequential_1/conv2d_6/Relu__sequential_1/conv2d_6/BiasAdd__StatefulPartitionedCall/sequential_1/conv2d_6/BiasAdd__sequential_1/conv2d_6/Conv2D__StatefulPartitionedCall/sequential_1/conv2d_6/Conv2D__unknown_4:0 -> [156160, 158207]\n",
      "sequential_1/max_pooling2d_3/MaxPool__StatefulPartitionedCall/sequential_1/max_pooling2d_3/MaxPool:0 -> [266, 521]\n",
      "4_CONV_2D/ReLU:0 -> [34816, 36863]\n",
      "unknown_0:0 -> [4800, 5055]\n",
      "unknown_2:0 -> [139264, 139775]\n",
      "sequential_1/dense_1/MatMul__StatefulPartitionedCall/sequential_1/dense_1/MatMul:0 -> [306, 2865]\n",
      "sequential_1/conv2d_5/Relu__StatefulPartitionedCall/sequential_1/conv2d_5/Relu__sequential_1/conv2d_5/BiasAdd__StatefulPartitionedCall/sequential_1/conv2d_5/BiasAdd__sequential_1/conv2d_6/Conv2D__StatefulPartitionedCall/sequential_1/conv2d_6/Conv2D__sequential_1/conv2d_5/Conv2D__StatefulPartitionedCall/sequential_1/conv2d_5/Conv2D__unknown_2:0 -> [139776, 172543]\n"
     ]
    }
   ],
   "source": [
    "for v in ugraph.attributes[planner.KWARGS_NAMESCOPE].plan.values():\n",
    "    print(v.entity.name, '->', [v.offset_start, v.offset_end])"
   ]
  },
  {
   "cell_type": "code",
   "execution_count": null,
   "metadata": {
    "ExecuteTime": {
     "end_time": "2020-11-25T06:48:01.912721Z",
     "start_time": "2020-11-25T06:48:00.734649Z"
    },
    "slideshow": {
     "slide_type": "subslide"
    }
   },
   "outputs": [],
   "source": [
    "from utensor_cgen.ir.misc.graph_viz import viz_memalloc\n",
    "figs = viz_memalloc(ugraph, num_tensors_per_split=10)"
   ]
  },
  {
   "cell_type": "code",
   "execution_count": 9,
   "metadata": {
    "ExecuteTime": {
     "end_time": "2020-11-25T06:48:17.272549Z",
     "start_time": "2020-11-25T06:48:16.861412Z"
    },
    "slideshow": {
     "slide_type": "subslide"
    }
   },
   "outputs": [
    {
     "data": {
      "image/png": "[encoded data removed]",
      "text/plain": [
       "<Figure size 720x360 with 1 Axes>"
      ]
     },
     "execution_count": 9,
     "metadata": {},
     "output_type": "execute_result"
    }
   ],
   "source": [
    "figs[0]"
   ]
  },
  {
   "cell_type": "markdown",
   "metadata": {
    "slideshow": {
     "slide_type": "subslide"
    }
   },
   "source": [
    "![mlp_alloc](images/mlp_alloc.png)"
   ]
  },
  {
   "cell_type": "markdown",
   "metadata": {
    "slideshow": {
     "slide_type": "slide"
    }
   },
   "source": [
    "# Tutorial 2: Error Handling and Debugging\n",
    "\n",
    "[error_handling.cpp](https://github.com/dboyliao/PyDataTP_2020/blob/master/2_error_handling/error_handling.cpp)\n",
    "\n",
    "![error-handling](images/error-handling.png)"
   ]
  },
  {
   "cell_type": "markdown",
   "metadata": {
    "slideshow": {
     "slide_type": "subslide"
    }
   },
   "source": [
    "## Simple Error Handler: A Spinning Handler\n",
    "\n",
    "```cpp\n",
    "// create an error handler\n",
    "static SimpleErrorHandler error_handler(3);\n",
    "\n",
    "int main(int argc, const char **argv) {\n",
    "  Context::get_default_context()->set_metadata_allocator(&meta_alloc);\n",
    "  Context::get_default_context()->set_ram_data_allocator(&ram_alloc);\n",
    "  // setup error handler\n",
    "  Context::get_default_context()->set_ErrorHandler(&error_handler);\n",
    "  ...\n",
    "}\n",
    "```"
   ]
  },
  {
   "cell_type": "markdown",
   "metadata": {
    "slideshow": {
     "slide_type": "subslide"
    }
   },
   "source": [
    "![error-handling-lldb](images/error-handling-lldb.png)"
   ]
  },
  {
   "cell_type": "markdown",
   "metadata": {
    "slideshow": {
     "slide_type": "subslide"
    }
   },
   "source": [
    "![error-handling-lldb-2](images/error-handling-lldb-2.png)"
   ]
  },
  {
   "cell_type": "markdown",
   "metadata": {
    "slideshow": {
     "slide_type": "slide"
    }
   },
   "source": [
    "# Tutorial 3: Operator Interface\n",
    "\n",
    "[operator_interface.cpp](https://github.com/dboyliao/PyDataTP_2020/blob/master/3_operator_interface/operator_interface.cpp)\n",
    "\n",
    "![operator-interface](images/operator-interface.png)"
   ]
  },
  {
   "cell_type": "markdown",
   "metadata": {
    "slideshow": {
     "slide_type": "subslide"
    }
   },
   "source": [
    "## `OperatorInteface`\n",
    "\n",
    "```cpp\n",
    "template <size_t num_inputs, size_t num_outputs>\n",
    "class OperatorInterface : public OperatorBase {\n",
    " ...\n",
    "\n",
    " protected:\n",
    "  virtual void compute() = 0;\n",
    "};\n",
    "```"
   ]
  },
  {
   "cell_type": "markdown",
   "metadata": {
    "slideshow": {
     "slide_type": "subslide"
    }
   },
   "source": [
    "To implement an operator, you must\n",
    "\n",
    "1. inherent from `OperatorInterface` and specify the number of inputs/outputs\n",
    "2. overwrite `void compute()`"
   ]
  },
  {
   "cell_type": "markdown",
   "metadata": {
    "slideshow": {
     "slide_type": "subslide"
    }
   },
   "source": [
    "- Let's write an operator which print ASCII characters by its code\n",
    "\n",
    "```cpp\n",
    "// It's a operator with 1 input and 0 output\n",
    "class ASCIIPrintOperator : public OperatorInterface<1, 0> {\n",
    " public:\n",
    "  enum names_in : uint8_t { msg }; // the input names\n",
    "  ...\n",
    "\n",
    " protected:\n",
    "  // compute() will be invoked once the operator is evaluated\n",
    "  void compute() {\n",
    "    // retrieve tensor by its name\n",
    "    Tensor &msg_tensor = inputs[msg].tensor();\n",
    "    ...\n",
    "  }\n",
    "  ...\n",
    "};\n",
    "```"
   ]
  },
  {
   "cell_type": "markdown",
   "metadata": {
    "slideshow": {
     "slide_type": "subslide"
    }
   },
   "source": [
    "```cpp\n",
    "ASCIIPrintOperator op;\n",
    "...\n",
    "\n",
    "op\n",
    "  // set inputs by names\n",
    "  .set_inputs({{ASCIIPrintOperator::msg, msg}})\n",
    "  // evaluate the op\n",
    "  .eval();\n",
    "```"
   ]
  },
  {
   "cell_type": "markdown",
   "metadata": {
    "slideshow": {
     "slide_type": "subslide"
    }
   },
   "source": [
    "```cpp\n",
    "ReferenceOperators::AddOperator<uint8_t> add_op;\n",
    "...\n",
    "    \n",
    "add_op\n",
    "  .set_inputs({\n",
    "      {ReferenceOperators::AddOperator<uint8_t>::a, msg},\n",
    "      {ReferenceOperators::AddOperator<uint8_t>::b, ones},\n",
    "  })\n",
    "  .set_outputs({{ReferenceOperators::AddOperator<uint8_t>::c, outputs}})\n",
    "  .eval();\n",
    "```"
   ]
  },
  {
   "cell_type": "markdown",
   "metadata": {
    "slideshow": {
     "slide_type": "fragment"
    }
   },
   "source": [
    "[Caesar Cipher](https://en.wikipedia.org/wiki/Caesar_cipher)"
   ]
  },
  {
   "cell_type": "markdown",
   "metadata": {
    "slideshow": {
     "slide_type": "slide"
    }
   },
   "source": [
    "# Tutorial 4: Model Interface\n",
    "\n",
    "[model_interface.cpp](https://github.com/dboyliao/PyDataTP_2020/blob/master/4_model_interface/model_interface.cpp)\n",
    "\n",
    "![model-interface](images/model-interface.png)"
   ]
  },
  {
   "cell_type": "markdown",
   "metadata": {
    "slideshow": {
     "slide_type": "subslide"
    }
   },
   "source": [
    "```cpp\n",
    "template <size_t num_inputs, size_t num_outputs>\n",
    "class ModelInterface : public ModelBase {\n",
    " ...\n",
    "\n",
    " protected:\n",
    "  virtual void compute() = 0;\n",
    "};\n",
    "```"
   ]
  },
  {
   "cell_type": "markdown",
   "metadata": {
    "slideshow": {
     "slide_type": "subslide"
    }
   },
   "source": [
    "- `ModelInterface` is designed to mimic `OperatorInterface`\n",
    "- To implement a model, you must:\n",
    "  1. inherent from `ModelInterface` with specific inputs/outputs numbers\n",
    "  2. overwrite `void compute()` virtual method"
   ]
  },
  {
   "cell_type": "markdown",
   "metadata": {
    "slideshow": {
     "slide_type": "subslide"
    }
   },
   "source": [
    "```cpp\n",
    "// a model with 1 input tensor and 1 output tensor\n",
    "class MyModel : public ModelInterface<1, 1> {\n",
    " public:\n",
    "  // names of input/output tensors\n",
    "  enum names_in : uint8_t { msg };\n",
    "  enum names_out : uint8_t { output };\n",
    "\n",
    " private:\n",
    "  ...\n",
    "  // private memory allocator, which controls total memory consumption of a model\n",
    "  localCircularArenaAllocator<256> meta_alloc;\n",
    "  localCircularArenaAllocator<256> ram_alloc;\n",
    "\n",
    " protected:\n",
    "  void compute() {\n",
    "    // carry out the operator evaluation over here\n",
    "    ...\n",
    "  }\n",
    "};\n",
    "```"
   ]
  },
  {
   "cell_type": "markdown",
   "metadata": {
    "slideshow": {
     "slide_type": "subslide"
    }
   },
   "source": [
    "```cpp\n",
    "// allocator for tensors outside of the model\n",
    "static localCircularArenaAllocator<128> meta_alloc;\n",
    "static localCircularArenaAllocator<128> ram_alloc;\n",
    "\n",
    "int main(int argc, const char **argv) {\n",
    "  Context::get_default_context()->set_metadata_allocator(&meta_alloc);\n",
    "  Context::get_default_context()->set_ram_data_allocator(&ram_alloc);\n",
    "  Tensor msg = new RomTensor({12}, u8, msg_codes);\n",
    "  Tensor output = new RamTensor({12}, u8);\n",
    "  // create model\n",
    "  MyModel mymodel(true);\n",
    "  // set input/output tensors and evaluate\n",
    "  mymodel.set_inputs({{MyModel::msg, msg}})\n",
    "      .set_outputs({{MyModel::output, output}})\n",
    "      .eval();\n",
    "  return 0;\n",
    "}\n",
    "```"
   ]
  },
  {
   "cell_type": "markdown",
   "metadata": {
    "slideshow": {
     "slide_type": "slide"
    }
   },
   "source": [
    "# Tutorial 5: End-to-End Deployment\n",
    "\n",
    "[5_end2end_deployment](https://github.com/dboyliao/PyDataTP_2020/tree/master/5_end2end_deployment)\n",
    "\n",
    "![end2end](images/end2end.png)"
   ]
  },
  {
   "cell_type": "code",
   "execution_count": 1,
   "metadata": {
    "ExecuteTime": {
     "end_time": "2020-11-25T06:22:40.944815Z",
     "start_time": "2020-11-25T06:22:38.524156Z"
    },
    "slideshow": {
     "slide_type": "subslide"
    }
   },
   "outputs": [],
   "source": [
    "from utensor_cgen.api.export import tflm_keras_export\n",
    "import tensorflow as tf\n",
    "import numpy as np"
   ]
  },
  {
   "cell_type": "code",
   "execution_count": 2,
   "metadata": {
    "ExecuteTime": {
     "end_time": "2020-11-25T06:22:42.230014Z",
     "start_time": "2020-11-25T06:22:42.052432Z"
    },
    "slideshow": {
     "slide_type": "fragment"
    }
   },
   "outputs": [],
   "source": [
    "model = tf.keras.models.load_model('./5_end2end_deployment/simple_cnn.h5')"
   ]
  },
  {
   "cell_type": "code",
   "execution_count": 3,
   "metadata": {
    "ExecuteTime": {
     "end_time": "2020-11-25T06:22:43.928602Z",
     "start_time": "2020-11-25T06:22:42.689763Z"
    },
    "slideshow": {
     "slide_type": "subslide"
    }
   },
   "outputs": [],
   "source": [
    "(x_train, y_train), (x_test, y_test) = tf.keras.datasets.cifar10.load_data()\n",
    "x_train = x_train.astype('float32') / 255.0\n",
    "y_train = y_train.astype('float32')\n",
    "x_test = x_test.astype('float32') / 255.0\n",
    "y_test = y_test.astype('float32')"
   ]
  },
  {
   "cell_type": "code",
   "execution_count": 4,
   "metadata": {
    "ExecuteTime": {
     "end_time": "2020-11-25T06:22:43.938611Z",
     "start_time": "2020-11-25T06:22:43.931262Z"
    },
    "slideshow": {
     "slide_type": "fragment"
    }
   },
   "outputs": [],
   "source": [
    "def representative_dataset():\n",
    "    for idx in np.random.randint(0, x_train.shape[0], 1024):\n",
    "        yield [x_train[[idx]]]"
   ]
  },
  {
   "cell_type": "code",
   "execution_count": null,
   "metadata": {
    "ExecuteTime": {
     "end_time": "2020-11-25T06:22:49.660808Z",
     "start_time": "2020-11-25T06:22:45.716705Z"
    },
    "scrolled": true,
    "slideshow": {
     "slide_type": "subslide"
    }
   },
   "outputs": [],
   "source": [
    "tflm_keras_export(\n",
    "    model,\n",
    "    representative_dataset,\n",
    "    model_name=\"simple_cnn\",\n",
    "    output_tflite_fname=\"simple_cnn.tflite\"\n",
    ")"
   ]
  },
  {
   "cell_type": "markdown",
   "metadata": {
    "slideshow": {
     "slide_type": "subslide"
    }
   },
   "source": [
    "![tflite-export](images/tflite-export.png)"
   ]
  },
  {
   "cell_type": "markdown",
   "metadata": {
    "slideshow": {
     "slide_type": "subslide"
    }
   },
   "source": [
    "### Demo\n",
    "\n",
    "![nucleo-f767zi](images/nucleo-f767zi.jpg)"
   ]
  },
  {
   "cell_type": "markdown",
   "metadata": {
    "slideshow": {
     "slide_type": "subslide"
    }
   },
   "source": [
    "![demo-stack-overflow](images/demo-stack-overflow.png)"
   ]
  },
  {
   "cell_type": "markdown",
   "metadata": {
    "slideshow": {
     "slide_type": "subslide"
    }
   },
   "source": [
    "After adding `static` to all quantization parameters\n",
    "\n",
    "![end2end](images/end2end.png)"
   ]
  },
  {
   "cell_type": "markdown",
   "metadata": {
    "slideshow": {
     "slide_type": "slide"
    }
   },
   "source": [
    "# `utensor_cgen` Plugin\n",
    "\n",
    "[component_registration](https://github.com/uTensor/utensor_cgen/tree/master/tutorials/component_registration)\n",
    "\n",
    "![utensor-cli-components](images/utensor-cli-components.drawio.svg)"
   ]
  },
  {
   "cell_type": "markdown",
   "metadata": {
    "slideshow": {
     "slide_type": "subslide"
    }
   },
   "source": [
    "- A `plugin` for `utensor_cgen` is just a python module, which can be a `.py` file or a directory"
   ]
  },
  {
   "cell_type": "markdown",
   "metadata": {
    "slideshow": {
     "slide_type": "fragment"
    }
   },
   "source": [
    "- Each component in `utensor_cgen` is open for registration. That is, you can extend `utenssor-cli` however you like"
   ]
  },
  {
   "cell_type": "markdown",
   "metadata": {
    "slideshow": {
     "slide_type": "fragment"
    }
   },
   "source": [
    "- Let's see an example how to extend `utensor-cli` to generate different target files"
   ]
  },
  {
   "cell_type": "markdown",
   "metadata": {
    "slideshow": {
     "slide_type": "subslide"
    }
   },
   "source": [
    "## `Backend`\n",
    "\n",
    "```python\n",
    "from utensor_cgen.backend import BackendManager\n",
    "from utensor_cgen.backend.base import Backend\n",
    "from utensor_cgen.utils import class_property\n",
    "\n",
    "\n",
    "@BackendManager.register\n",
    "class DummyBackend(Backend):\n",
    "    TARGET = 'dummy-backend'\n",
    "\n",
    "    def __init__(self, config):\n",
    "        self.output_file = self.config[self.TARGET][self.COMPONENT]['output-file']\n",
    "\n",
    "    def apply(self, ugraph):\n",
    "        # you will be given an optimized, target-specific graph\n",
    "        # and then you can do whatever you like with it such as generating files,\n",
    "        # printing details, ...etc\n",
    "        import pdb\n",
    "        pdb.set_trace()\n",
    "        with open(self.output_file, 'w'):\n",
    "            # do stuff\n",
    "            ...\n",
    "\n",
    "    @class_property\n",
    "    def default_config(cls):\n",
    "        return {\n",
    "            cls.TARGET: {\n",
    "                    cls.COMPONENT: {\n",
    "                    'output-file': 'list_op.c'\n",
    "                }\n",
    "            }\n",
    "        }\n",
    "```"
   ]
  },
  {
   "cell_type": "markdown",
   "metadata": {
    "slideshow": {
     "slide_type": "subslide"
    }
   },
   "source": [
    "```python\n",
    "class DummyBackend(Backend):\n",
    "    TARGET = <target name>\n",
    "    ...\n",
    "```"
   ]
  },
  {
   "cell_type": "markdown",
   "metadata": {
    "slideshow": {
     "slide_type": "fragment"
    }
   },
   "source": [
    "- Each `Backend` must provide a `TARGET` as its target name (a string)"
   ]
  },
  {
   "cell_type": "markdown",
   "metadata": {
    "slideshow": {
     "slide_type": "fragment"
    }
   },
   "source": [
    "- Will be applied by `utensor-cli -p <myplugin> convert --target=<target name> <model_file>`"
   ]
  },
  {
   "cell_type": "markdown",
   "metadata": {
    "slideshow": {
     "slide_type": "subslide"
    }
   },
   "source": [
    "```python\n",
    "def __init__(self, config):\n",
    "    self.output_file = self.config[self.TARGET][self.COMPONENT]['output-file']\n",
    "\n",
    "@class_property\n",
    "def default_config(cls):\n",
    "    return {\n",
    "        cls.TARGET: {\n",
    "                cls.COMPONENT: {\n",
    "                <key>: <value>,\n",
    "                ...\n",
    "            }\n",
    "        }\n",
    "    }\n",
    "```"
   ]
  },
  {
   "cell_type": "markdown",
   "metadata": {
    "slideshow": {
     "slide_type": "fragment"
    }
   },
   "source": [
    "- `default_config` should return a dictionary with the spec as above example"
   ]
  },
  {
   "cell_type": "markdown",
   "metadata": {
    "slideshow": {
     "slide_type": "fragment"
    }
   },
   "source": [
    "- a dictionary with the same spec of the value returned by `default_config` will be passed to `__init__`\n",
    "- the backend object should be initialized accordingly"
   ]
  },
  {
   "cell_type": "markdown",
   "metadata": {
    "slideshow": {
     "slide_type": "subslide"
    }
   },
   "source": [
    "## Demo\n",
    "\n",
    "```bash\n",
    "$ utensor-cli \\\n",
    "  -p submodules/utensor_cgen/tutorials/component_registration/my_plugins \\\n",
    "  convert --target 'dummy-backend' \\\n",
    "  5_end2end_deployment/simple_cnn.tflite\n",
    "$ clang -O3 list_op.c -o list_op\n",
    "```"
   ]
  },
  {
   "cell_type": "markdown",
   "metadata": {
    "slideshow": {
     "slide_type": "subslide"
    }
   },
   "source": [
    "![demo-plugin](images/demo-plugin.png)"
   ]
  }
 ],
 "metadata": {
  "celltoolbar": "Slideshow",
  "kernelspec": {
   "display_name": "utensor",
   "language": "python",
   "name": "utensor"
  },
  "language_info": {
   "codemirror_mode": {
    "name": "ipython",
    "version": 3
   },
   "file_extension": ".py",
   "mimetype": "text/x-python",
   "name": "python",
   "nbconvert_exporter": "python",
   "pygments_lexer": "ipython3",
   "version": "3.7.2"
  },
  "toc": {
   "base_numbering": 1,
   "nav_menu": {},
   "number_sections": true,
   "sideBar": true,
   "skip_h1_title": false,
   "title_cell": "Table of Contents",
   "title_sidebar": "Contents",
   "toc_cell": false,
   "toc_position": {},
   "toc_section_display": true,
   "toc_window_display": false
  }
 },
 "nbformat": 4,
 "nbformat_minor": 4
}
